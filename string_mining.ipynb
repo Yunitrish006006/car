{
 "cells": [
  {
   "cell_type": "code",
   "execution_count": 1,
   "metadata": {},
   "outputs": [
    {
     "name": "stdout",
     "output_type": "stream",
     "text": [
      "actgccgacgatcgcgcatcagcg\n",
      "012345678901234567890123 \n",
      "\n",
      "gc occurs 4 times\n",
      "(3 times from index 13)\n",
      "\n",
      "first occurrence of gc: index 3\n",
      "first occurrence of x: index -1\n",
      "\n",
      "sequence doesn't start with AC\n",
      "last occurrence of gc: index 21\n",
      "\n",
      "replacing gc with GC:\n",
      "actGCcgacgatcGCGCatcaGCg\n",
      "\n",
      "replace 2 occurrences max:\n",
      "actGCcgacgatcGCgcatcagcg\n"
     ]
    }
   ],
   "source": [
    "s = \"actgccgacgatcgcgcatcagcg\"\n",
    "index_string= \"012345678901234567890123\"  # length 24\n",
    "print (s)\n",
    "print (index_string, \"\\n\")\n",
    "print (\"gc occurs %d times\" % s.count( \"gc\" ))\n",
    "print (\"(%d times from index 13)\\n\" % s.count( \"gc\", 13, len(s) ))\n",
    "\n",
    "print (\"first occurrence of gc: index %d\" % s.find( \"gc\" ))\n",
    "print (\"first occurrence of x: index %d\\n\" % s.find( \"x\" ))\n",
    "# -1 is a number, program breaks down later if string not found?\n",
    "# index(): as find() but raises exception if string is not found\n",
    "\n",
    "\n",
    "if s.startswith( \"AC\" ):\n",
    "    print (\"sequence starts with AC\")\n",
    "else:\n",
    "    print (\"sequence doesn't start with AC\")\n",
    "# case sensitive!\n",
    "print (\"last occurrence of gc: index %d\\n\" % s.rfind( \"gc\" ))\n",
    "print (\"replacing gc with GC:\\n%s\\n\" %s.replace( \"gc\", \"GC\" ))\n",
    "print (\"replace 2 occurrences max:\\n%s\" %s.replace( \"gc\", \"GC\", 2 ))\n"
   ]
  },
  {
   "cell_type": "code",
   "execution_count": null,
   "metadata": {},
   "outputs": [
    {
     "name": "stdout",
     "output_type": "stream",
     "text": [
      "String is: A, B, C, D, E, F\n",
      "Split string by spaces: ['A,', 'B,', 'C,', 'D,', 'E,', 'F']\n",
      "Split string by commas: ['A', ' B', ' C', ' D', ' E', ' F']\n",
      "Split string by commas, max 2: ['A', ' B', ' C, D, E, F']\n",
      "List is: ['A', 'B', 'C', 'D', 'E', 'F']\n",
      "Joining with ___ : A___B___C___D___E___F\n",
      "Joining with -.- : A-.-B-.-C-.-D-.-E-.-F\n"
     ]
    }
   ],
   "source": [
    "# Fig. 13.6: fig13_06.py\n",
    "# Token splitting and delimiter joining.\n",
    "\n",
    "\n",
    "# splitting strings\n",
    "string1 = \"A, B, C, D, E, F\"\n",
    "print (\"String is:\", string1)\n",
    "print (\"Split string by spaces:\", string1.split())\n",
    "print (\"Split string by commas:\", string1.split( \",\" ))\n",
    "print (\"Split string by commas, max 2:\", string1.split( \",\", 2 ))\n",
    "print\n",
    "\n",
    "\n",
    "# joining strings\n",
    "list1 =  [ \"A\", \"B\", \"C\", \"D\", \"E\", \"F\"]\n",
    "string2 = \"___\"\n",
    "print (\"List is:\", list1)\n",
    "print ( 'Joining with ___ : %s' % ( string2.join ( list1 ) ))\n",
    "print ('Joining with -.- :', \"-.-\".join( list1 ))\n"
   ]
  }
 ],
 "metadata": {
  "kernelspec": {
   "display_name": ".venv",
   "language": "python",
   "name": "python3"
  },
  "language_info": {
   "codemirror_mode": {
    "name": "ipython",
    "version": 3
   },
   "file_extension": ".py",
   "mimetype": "text/x-python",
   "name": "python",
   "nbconvert_exporter": "python",
   "pygments_lexer": "ipython3",
   "version": "3.12.3"
  }
 },
 "nbformat": 4,
 "nbformat_minor": 2
}
